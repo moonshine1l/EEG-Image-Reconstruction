{
 "cells": [
  {
   "cell_type": "markdown",
   "id": "6deedf9c-817f-45d0-bdf7-6ec1d49f6ad5",
   "metadata": {},
   "source": [
    "# Preparation\n",
    "\n",
    "Firstly you need to load pre-trained model itself from this link:\n",
    "https://drive.google.com/file/d/1PknQ5p97prnB7yifw2oVbQFzjrflQ3qk/view?usp=sharing"
   ]
  },
  {
   "cell_type": "code",
   "execution_count": 1,
   "id": "c7eb3f79-523b-4648-a042-51f719daacad",
   "metadata": {
    "tags": []
   },
   "outputs": [
    {
     "data": {
      "text/plain": [
       "'/beegfs/home/m.kabir/BrainBERT/BrainBERT-master'"
      ]
     },
     "execution_count": 1,
     "metadata": {},
     "output_type": "execute_result"
    }
   ],
   "source": [
    "import os\n",
    "os.chdir('..')\n",
    "os.getcwd()"
   ]
  },
  {
   "cell_type": "code",
   "execution_count": 2,
   "id": "274dfb81-2585-42ab-905f-6d0b7c10d234",
   "metadata": {
    "tags": []
   },
   "outputs": [],
   "source": [
    "import sys\n",
    "import models\n",
    "from omegaconf import OmegaConf\n",
    "import numpy as np\n",
    "import matplotlib.pyplot as plt\n",
    "from scipy import signal, stats\n",
    "import torch\n",
    "import sklearn as sk\n",
    "from sklearn import *"
   ]
  },
  {
   "cell_type": "code",
   "execution_count": 3,
   "id": "92829962-e6db-4db8-9d17-16b881db59d7",
   "metadata": {
    "tags": []
   },
   "outputs": [],
   "source": [
    "EEG_spect = np.load(\"./sk_imageReconstructon/EEG_spectrograms.npy\")\n",
    "labels = np.load(\"./sk_imageReconstructon/labels.npy\")"
   ]
  },
  {
   "cell_type": "code",
   "execution_count": 4,
   "id": "bee86ac3-a105-4c39-ab1c-ef6b673b57dc",
   "metadata": {
    "tags": []
   },
   "outputs": [
    {
     "name": "stdout",
     "output_type": "stream",
     "text": [
      "{'upstream_ckpt': './pretrained_weights/stft_large_pretrained.pth'}\n"
     ]
    },
    {
     "name": "stderr",
     "output_type": "stream",
     "text": [
      "/tmp/ipykernel_337585/2097289333.py:5: FutureWarning: You are using `torch.load` with `weights_only=False` (the current default value), which uses the default pickle module implicitly. It is possible to construct malicious pickle data which will execute arbitrary code during unpickling (See https://github.com/pytorch/pytorch/blob/main/SECURITY.md#untrusted-models for more details). In a future release, the default value for `weights_only` will be flipped to `True`. This limits the functions that could be executed during unpickling. Arbitrary objects will no longer be allowed to be loaded via this mode unless they are explicitly allowlisted by the user via `torch.serialization.add_safe_globals`. We recommend you start setting `weights_only=True` for any use case where you don't have full control of the loaded file. Please open an issue on GitHub for any issues related to this experimental feature.\n",
      "  init_state = torch.load(ckpt_path)\n"
     ]
    },
    {
     "name": "stdout",
     "output_type": "stream",
     "text": [
      "{'name': 'masked_tf_model', 'hidden_dim': 768, 'layer_dim_feedforward': 3072, 'layer_activation': 'gelu', 'nhead': 12, 'encoder_num_layers': 6, 'input_dim': 40}\n",
      "masked_tf_model\n",
      "{'deep_linear_wav_baseline': <class 'models.deep_linear_wav_baseline.DeepLinearWavModel'>, 'feature_extract_hidden_model': <class 'models.feature_extract_hidden.FeatureExtractHiddenModel'>, 'finetune_model': <class 'models.finetune_model.FinetuneModel'>, 'linear_spec_baseline': <class 'models.linear_spec_baseline.LinearSpecModel'>, 'feature_extract_deep_model': <class 'models.feature_extract_deep_model.FeatureExtractDeepModel'>, 'linear_wav_baseline': <class 'models.linear_wav_baseline.LinearWavModel'>, 'masked_tf_model': <class 'models.masked_tf_model.MaskedTFModel'>, 'feature_extract_model': <class 'models.feature_extract_model.FeatureExtractModel'>, 'seeg_wav2vec': <class 'models.seeg_wav2vec.SeegWav2Vec'>, 'hidden_linear_wav_baseline': <class 'models.hidden_linear_wav_model.HiddenLinearWavBaseline'>}\n"
     ]
    },
    {
     "name": "stderr",
     "output_type": "stream",
     "text": [
      "/trinity/home/m.kabir/.local/lib/python3.9/site-packages/torch/nn/modules/transformer.py:379: UserWarning: enable_nested_tensor is True, but self.use_nested_tensor is False because encoder_layer.self_attn.batch_first was not True(use batch_first for better inference performance)\n",
      "  warnings.warn(\n",
      "/tmp/ipykernel_337585/2097289333.py:22: FutureWarning: You are using `torch.load` with `weights_only=False` (the current default value), which uses the default pickle module implicitly. It is possible to construct malicious pickle data which will execute arbitrary code during unpickling (See https://github.com/pytorch/pytorch/blob/main/SECURITY.md#untrusted-models for more details). In a future release, the default value for `weights_only` will be flipped to `True`. This limits the functions that could be executed during unpickling. Arbitrary objects will no longer be allowed to be loaded via this mode unless they are explicitly allowlisted by the user via `torch.serialization.add_safe_globals`. We recommend you start setting `weights_only=True` for any use case where you don't have full control of the loaded file. Please open an issue on GitHub for any issues related to this experimental feature.\n",
      "  init_state = torch.load(ckpt_path)\n"
     ]
    },
    {
     "name": "stdout",
     "output_type": "stream",
     "text": [
      "MaskedTFModel(\n",
      "  (input_encoding): TransformerEncoderInput(\n",
      "    (in_proj): Linear(in_features=40, out_features=768, bias=True)\n",
      "    (positional_encoding): PositionalEncoding()\n",
      "    (layer_norm): LayerNorm((768,), eps=1e-05, elementwise_affine=True)\n",
      "    (dropout): Dropout(p=0.1, inplace=False)\n",
      "  )\n",
      "  (transformer): TransformerEncoder(\n",
      "    (layers): ModuleList(\n",
      "      (0-5): 6 x TransformerEncoderLayer(\n",
      "        (self_attn): MultiheadAttention(\n",
      "          (out_proj): NonDynamicallyQuantizableLinear(in_features=768, out_features=768, bias=True)\n",
      "        )\n",
      "        (linear1): Linear(in_features=768, out_features=3072, bias=True)\n",
      "        (dropout): Dropout(p=0.1, inplace=False)\n",
      "        (linear2): Linear(in_features=3072, out_features=768, bias=True)\n",
      "        (norm1): LayerNorm((768,), eps=1e-05, elementwise_affine=True)\n",
      "        (norm2): LayerNorm((768,), eps=1e-05, elementwise_affine=True)\n",
      "        (dropout1): Dropout(p=0.1, inplace=False)\n",
      "        (dropout2): Dropout(p=0.1, inplace=False)\n",
      "      )\n",
      "    )\n",
      "  )\n",
      "  (spec_prediction_head): SpecPredictionHead(\n",
      "    (hidden_layer): Linear(in_features=768, out_features=768, bias=True)\n",
      "    (act_fn): GELU(approximate='none')\n",
      "    (layer_norm): LayerNorm((768,), eps=1e-05, elementwise_affine=True)\n",
      "    (output): Linear(in_features=768, out_features=40, bias=True)\n",
      "  )\n",
      ")\n"
     ]
    }
   ],
   "source": [
    "## loading model\n",
    "device = 'cuda'\n",
    "def build_model(cfg):\n",
    "    ckpt_path = cfg.upstream_ckpt\n",
    "    init_state = torch.load(ckpt_path)\n",
    "    upstream_cfg = init_state[\"model_cfg\"]\n",
    "    print(upstream_cfg)\n",
    "    upstream = models.build_model(upstream_cfg)\n",
    "    return upstream\n",
    "\n",
    "def load_model_weights(model, states, multi_gpu):\n",
    "    if multi_gpu:\n",
    "        model.module.load_weights(states)\n",
    "    else:\n",
    "        model.load_weights(states)\n",
    "\n",
    "ckpt_path = \"./pretrained_weights/stft_large_pretrained.pth\"\n",
    "cfg = OmegaConf.create({\"upstream_ckpt\": ckpt_path})\n",
    "print(cfg)\n",
    "tf_model = build_model(cfg)\n",
    "tf_model.to(device)\n",
    "init_state = torch.load(ckpt_path)\n",
    "load_model_weights(tf_model, init_state['model'], False)\n",
    "\n",
    "\n",
    "print(tf_model)\n",
    "\n",
    "class MaskedTFClassifier(torch.nn.Module):\n",
    "    def __init__(self, base_model: torch.nn.Module, num_classes):\n",
    "        super(MaskedTFClassifier, self).__init__()\n",
    "        self.base_model = base_model\n",
    "\n",
    "        \n",
    "        self.base_model.spec_prediction_head = torch.nn.Identity()\n",
    "\n",
    "       \n",
    "        self.classifier = torch.nn.Sequential(\n",
    "            torch.nn.Linear(768, 768),\n",
    "            torch.nn.LayerNorm(768),\n",
    "            torch.nn.ReLU(),\n",
    "            torch.nn.Dropout(0.2),\n",
    "\n",
    "            torch.nn.Linear(768, 512),\n",
    "            torch.nn.LayerNorm(512),\n",
    "            torch.nn.ReLU(),\n",
    "            torch.nn.Dropout(0.3),\n",
    "\n",
    "            torch.nn.Linear(512, 256),\n",
    "            torch.nn.ReLU(),\n",
    "\n",
    "            torch.nn.Linear(256, 64),\n",
    "            torch.nn.ReLU(),\n",
    "\n",
    "            torch.nn.Linear(64, num_classes)  # No softmax here (handled in loss)\n",
    "        )\n",
    "\n",
    "    def forward(self, input_specs, src_key_mask,inter_state):\n",
    "\n",
    "        transformer_output = self.base_model(\n",
    "            input_specs=input_specs,\n",
    "            src_key_mask=src_key_mask,\n",
    "            intermediate_rep=True\n",
    "        )  # shape: [batch, seq, 768]\n",
    "        \n",
    "        if inter_state:\n",
    "            return transformer_output\n",
    "\n",
    "        pooled = transformer_output.mean(dim=1)  # [batch, 768]\n",
    "\n",
    "        return self.classifier(pooled)\n",
    "    \n",
    "# selected_model = MaskedTFClassifier(tf_model, num_classes=3)\n",
    "\n",
    "\n",
    "def training(model,criteria,optimizer,training_data,num_epochs):\n",
    "    train_losses = []\n",
    "    for epoch in range(num_epochs):    \n",
    "        model.train()\n",
    "        train_loss = 0.0\n",
    "        \n",
    "        for param in model.base_model.spec_prediction_head.parameters():\n",
    "            param.requires_grad = False\n",
    "            \n",
    "        # if epoch >= 200:\n",
    "        #     for param in model.base_model.parameters():\n",
    "        #         param.requires_grad = False\n",
    "                \n",
    "        for batch_X,batch_mask, batch_y in training_data:\n",
    "            batch_X, batch_mask, batch_y = batch_X.to(device),batch_mask.to(device),  batch_y.to(device).long() \n",
    "            batch_mask = torch.zeros((batch_X.shape[:2])).bool().to(device)\n",
    "            \n",
    "            outputs = model(batch_X, batch_mask,inter_state=False)\n",
    "            # print(outputs.shape)\n",
    "            loss = criteria(outputs,batch_y)\n",
    "            optimizer.zero_grad()\n",
    "            loss.backward()\n",
    "            torch.nn.utils.clip_grad_norm_(model.parameters(), max_norm=1.0)\n",
    "            optimizer.step()\n",
    "\n",
    "            train_loss +=loss.item()\n",
    "\n",
    "            \n",
    "        train_loss /=len(training_data)\n",
    "        train_losses.append(train_loss)\n",
    "\n",
    "        if (epoch+1)% 5 ==0:\n",
    "            print(f'Epoch [{epoch+1}/{num_epochs}], Train Loss = {train_loss:.4f}')\n",
    "            \n",
    "    plt.figure(figsize=(10,6))\n",
    "    plt.plot(train_losses,label = \"Training Loss\")\n",
    "    plt.xlabel(\"Epochs\")\n",
    "    plt.ylabel(\"Loss\")\n",
    "    plt.title(\"Loss over epochs\")\n",
    "    plt.legend()\n",
    "    plt.grid(True)\n",
    "    plt.show()\n",
    "    \n",
    "    return model\n",
    "            \n",
    "            \n",
    "            \n",
    "        \n",
    "    "
   ]
  },
  {
   "cell_type": "code",
   "execution_count": 5,
   "id": "c781c4cc-9388-470b-aba8-422fb3fd55c0",
   "metadata": {
    "tags": []
   },
   "outputs": [
    {
     "data": {
      "text/plain": [
       "(10, 2, 14, 63, 40, 321)"
      ]
     },
     "execution_count": 5,
     "metadata": {},
     "output_type": "execute_result"
    }
   ],
   "source": [
    "EEG_spect.shape"
   ]
  },
  {
   "cell_type": "code",
   "execution_count": 6,
   "id": "79104f6e-61b4-4728-b384-4697e4067153",
   "metadata": {
    "tags": []
   },
   "outputs": [
    {
     "data": {
      "text/plain": [
       "(array([ 0.,  1.,  2.,  3.,  4.,  5.,  6.,  7.,  8.,  9., 10., 11., 12.]),\n",
       " array([ 7, 14, 16, 31, 21, 23, 22, 23, 26, 25, 26, 28, 18]))"
      ]
     },
     "execution_count": 6,
     "metadata": {},
     "output_type": "execute_result"
    }
   ],
   "source": [
    "np.unique(np.sort(labels.reshape(-1)),return_counts=True)"
   ]
  },
  {
   "cell_type": "code",
   "execution_count": 11,
   "id": "aad61763-236e-4ceb-9804-5dc601c9e8cc",
   "metadata": {
    "tags": []
   },
   "outputs": [
    {
     "data": {
      "text/plain": [
       "((2, 14, 40, 321), array([ 1.,  2.,  3.,  4.,  5.,  6.,  8.,  9., 10., 11.]))"
      ]
     },
     "execution_count": 11,
     "metadata": {},
     "output_type": "execute_result"
    }
   ],
   "source": [
    "X_temp = EEG_spect[0,:,:,1,:,:]\n",
    "y_temp = labels[0,:,:]\n",
    "y_original = labels[0,:,:].reshape(-1)\n",
    "X_temp.shape, np.unique(y_temp.reshape(-1))"
   ]
  },
  {
   "cell_type": "code",
   "execution_count": 12,
   "id": "ce66ba1f-f144-4a62-88bc-f8b1e79571d0",
   "metadata": {
    "tags": []
   },
   "outputs": [
    {
     "name": "stdout",
     "output_type": "stream",
     "text": [
      "[ 1.  2.  3.  4.  5.  6.  8.  9. 10. 11.]\n"
     ]
    },
    {
     "data": {
      "text/plain": [
       "(None,\n",
       " array([ 9., 10., 10.,  9., 10.,  4., 10.,  6.,  2.,  6.,  2., 11.,  6.,\n",
       "        11., 11., 11., 11.,  9.,  9.,  8.,  8.,  3.,  5.,  5.,  3.,  3.,\n",
       "         3.,  1.]))"
      ]
     },
     "execution_count": 12,
     "metadata": {},
     "output_type": "execute_result"
    }
   ],
   "source": [
    "print(np.unique(y_original)), y_original"
   ]
  },
  {
   "cell_type": "code",
   "execution_count": 13,
   "id": "2ac28e6e-ce29-4db5-9c92-7217d5278258",
   "metadata": {
    "tags": []
   },
   "outputs": [
    {
     "name": "stdout",
     "output_type": "stream",
     "text": [
      "Unique classes in dataset: [ 1.  2.  3.  4.  5.  6.  8.  9. 10. 11.]\n",
      "Mapping: {1.0: 0, 2.0: 1, 3.0: 2, 4.0: 3, 5.0: 4, 6.0: 5, 8.0: 6, 9.0: 7, 10.0: 8, 11.0: 9}\n",
      "Mapped labels: [[7 8 8 7 8 3 8 5 1 5 1 9 5 9]\n",
      " [9 9 9 7 7 6 6 2 4 4 2 2 2 0]]\n"
     ]
    }
   ],
   "source": [
    "unique_classes = np.unique(y_temp)   # sorted unique values\n",
    "print(\"Unique classes in dataset:\", unique_classes)\n",
    "\n",
    "\n",
    "old_to_new = {old: new for new, old in enumerate(unique_classes)}\n",
    "print(\"Mapping:\", old_to_new)\n",
    "\n",
    "\n",
    "y_temp = np.vectorize(old_to_new.get)(y_temp)\n",
    "\n",
    "print(\"Mapped labels:\", y_temp)"
   ]
  },
  {
   "cell_type": "code",
   "execution_count": 14,
   "id": "43e0144f-182f-405c-8160-174937aebec5",
   "metadata": {
    "tags": []
   },
   "outputs": [
    {
     "name": "stdout",
     "output_type": "stream",
     "text": [
      "(28, 40, 321)\n",
      "(28, 321, 40)\n",
      "torch.Size([28, 321, 40])\n",
      "torch.Size([28])\n",
      "torch.Size([28, 321])\n"
     ]
    }
   ],
   "source": [
    "## Loading data\n",
    "X  = X_temp.reshape(-1,X_temp.shape[-2],X_temp.shape[-1])\n",
    "print(X.shape)\n",
    "\n",
    "# Transposing to shuffle timestepms and freq bins\n",
    "X = X.transpose(0, 2, 1)\n",
    "print(X.shape)\n",
    "\n",
    "# To tensor\n",
    "X = torch.FloatTensor(X)\n",
    "X.to(device)\n",
    "print(X.shape)\n",
    "\n",
    "\n",
    "# Loading y\n",
    "y = torch.Tensor(y_temp.reshape(-1))\n",
    "print(y.shape)\n",
    "# creating mask\n",
    "mask = torch.rand(X.shape[0], X.shape[1]) < 0.15\n",
    "print(mask.shape)\n",
    "# print(y)"
   ]
  },
  {
   "cell_type": "code",
   "execution_count": 15,
   "id": "787624c3-898a-4d4f-b2c6-3b2ce83446fd",
   "metadata": {
    "tags": []
   },
   "outputs": [
    {
     "data": {
      "text/plain": [
       "array([0., 1., 2., 3., 4., 5., 6., 7., 8., 9.], dtype=float32)"
      ]
     },
     "execution_count": 15,
     "metadata": {},
     "output_type": "execute_result"
    }
   ],
   "source": [
    "np.unique(y)"
   ]
  },
  {
   "cell_type": "code",
   "execution_count": 16,
   "id": "425d53a7-eeec-4adc-8f69-4810a5773deb",
   "metadata": {
    "tags": []
   },
   "outputs": [
    {
     "data": {
      "text/plain": [
       "10"
      ]
     },
     "execution_count": 16,
     "metadata": {},
     "output_type": "execute_result"
    }
   ],
   "source": [
    "len(np.unique(y))"
   ]
  },
  {
   "cell_type": "code",
   "execution_count": 17,
   "id": "6f2efed2-b668-4507-b441-39be3ee007ad",
   "metadata": {
    "tags": []
   },
   "outputs": [
    {
     "data": {
      "text/plain": [
       "tensor(9.)"
      ]
     },
     "execution_count": 17,
     "metadata": {},
     "output_type": "execute_result"
    }
   ],
   "source": [
    "max(y)"
   ]
  },
  {
   "cell_type": "code",
   "execution_count": 18,
   "id": "8110164a-5211-490b-b61c-42b048834bdb",
   "metadata": {
    "tags": []
   },
   "outputs": [
    {
     "name": "stdout",
     "output_type": "stream",
     "text": [
      "Epoch [5/270], Train Loss = 2.2929\n",
      "Epoch [10/270], Train Loss = 2.2616\n",
      "Epoch [15/270], Train Loss = 2.2267\n",
      "Epoch [20/270], Train Loss = 2.1965\n",
      "Epoch [25/270], Train Loss = 2.0703\n",
      "Epoch [30/270], Train Loss = 1.9826\n",
      "Epoch [35/270], Train Loss = 1.8408\n",
      "Epoch [40/270], Train Loss = 1.7256\n",
      "Epoch [45/270], Train Loss = 1.5497\n",
      "Epoch [50/270], Train Loss = 1.3979\n",
      "Epoch [55/270], Train Loss = 1.2816\n",
      "Epoch [60/270], Train Loss = 1.1592\n",
      "Epoch [65/270], Train Loss = 0.9814\n",
      "Epoch [70/270], Train Loss = 0.8373\n",
      "Epoch [75/270], Train Loss = 0.7054\n",
      "Epoch [80/270], Train Loss = 0.6191\n",
      "Epoch [85/270], Train Loss = 0.5161\n",
      "Epoch [90/270], Train Loss = 0.3893\n",
      "Epoch [95/270], Train Loss = 0.3258\n",
      "Epoch [100/270], Train Loss = 0.2566\n",
      "Epoch [105/270], Train Loss = 0.1999\n",
      "Epoch [110/270], Train Loss = 0.1653\n",
      "Epoch [115/270], Train Loss = 0.1210\n",
      "Epoch [120/270], Train Loss = 0.1040\n",
      "Epoch [125/270], Train Loss = 0.0852\n",
      "Epoch [130/270], Train Loss = 0.0824\n",
      "Epoch [135/270], Train Loss = 0.0609\n",
      "Epoch [140/270], Train Loss = 0.0538\n",
      "Epoch [145/270], Train Loss = 0.0455\n",
      "Epoch [150/270], Train Loss = 0.0373\n",
      "Epoch [155/270], Train Loss = 0.0354\n",
      "Epoch [160/270], Train Loss = 0.0322\n",
      "Epoch [165/270], Train Loss = 0.0288\n",
      "Epoch [170/270], Train Loss = 0.0260\n",
      "Epoch [175/270], Train Loss = 0.0229\n",
      "Epoch [180/270], Train Loss = 0.0218\n",
      "Epoch [185/270], Train Loss = 0.0198\n",
      "Epoch [190/270], Train Loss = 0.0172\n",
      "Epoch [195/270], Train Loss = 0.0165\n",
      "Epoch [200/270], Train Loss = 0.0163\n",
      "Epoch [205/270], Train Loss = 0.0175\n",
      "Epoch [210/270], Train Loss = 0.0100\n",
      "Epoch [215/270], Train Loss = 0.0132\n",
      "Epoch [220/270], Train Loss = 0.0126\n",
      "Epoch [225/270], Train Loss = 0.0103\n",
      "Epoch [230/270], Train Loss = 0.0102\n",
      "Epoch [235/270], Train Loss = 0.0096\n",
      "Epoch [240/270], Train Loss = 0.0080\n",
      "Epoch [245/270], Train Loss = 0.0084\n",
      "Epoch [250/270], Train Loss = 0.0107\n",
      "Epoch [255/270], Train Loss = 0.0071\n",
      "Epoch [260/270], Train Loss = 0.0068\n",
      "Epoch [265/270], Train Loss = 0.0068\n",
      "Epoch [270/270], Train Loss = 0.0079\n"
     ]
    },
    {
     "data": {
      "image/png": "[encoded data removed]",
      "text/plain": [
       "<Figure size 1000x600 with 1 Axes>"
      ]
     },
     "metadata": {},
     "output_type": "display_data"
    }
   ],
   "source": [
    "train_dataset = torch.utils.data.TensorDataset(X,mask,y)\n",
    "train_loader = torch.utils.data.DataLoader(train_dataset,batch_size=32,shuffle=True)\n",
    "\n",
    "selected_model = MaskedTFClassifier(tf_model, num_classes=len(np.unique(y)))\n",
    "device = torch.device(\"cuda\" if torch.cuda.is_available() else \"cpu\")\n",
    "selected_model.to(device)\n",
    "\n",
    "selected_criteria  = torch.nn.CrossEntropyLoss()\n",
    "selected_optimizer = torch.optim.AdamW(selected_model.parameters(),lr=1e-4,weight_decay=1e-2)\n",
    "\n",
    "trained_model = training(model= selected_model,\n",
    "                                 criteria = selected_criteria,\n",
    "                                 optimizer=selected_optimizer,\n",
    "                                 training_data= train_loader,\n",
    "                                 # validation_data = val_loader,\n",
    "                                 num_epochs = 270)\n"
   ]
  },
  {
   "cell_type": "code",
   "execution_count": 19,
   "id": "8ac79aae-7641-4f3d-8b50-f0ceae35f148",
   "metadata": {
    "tags": []
   },
   "outputs": [
    {
     "data": {
      "text/plain": [
       "torch.Size([28, 321, 40])"
      ]
     },
     "execution_count": 19,
     "metadata": {},
     "output_type": "execute_result"
    }
   ],
   "source": [
    "X.shape"
   ]
  },
  {
   "cell_type": "code",
   "execution_count": 20,
   "id": "6074eb53-28e9-4462-a3f0-aaf6d9d54d1c",
   "metadata": {
    "tags": []
   },
   "outputs": [
    {
     "name": "stdout",
     "output_type": "stream",
     "text": [
      "torch.Size([28, 321])\n"
     ]
    }
   ],
   "source": [
    "mask = torch.zeros((X.shape[:2])).bool().to(device)\n",
    "print(mask.shape)"
   ]
  },
  {
   "cell_type": "code",
   "execution_count": 21,
   "id": "4967327b-51cb-4bda-80f1-64b8b1c38eee",
   "metadata": {
    "tags": []
   },
   "outputs": [
    {
     "data": {
      "text/plain": [
       "torch.Size([28, 321, 768])"
      ]
     },
     "execution_count": 21,
     "metadata": {},
     "output_type": "execute_result"
    }
   ],
   "source": [
    "trained_model.eval()\n",
    "with torch.no_grad():\n",
    "    out = trained_model.forward(X.to(device), mask, inter_state=True)\n",
    "    \n",
    "out.shape"
   ]
  },
  {
   "cell_type": "code",
   "execution_count": 22,
   "id": "d0c55411-a395-498c-815d-4d81f498742e",
   "metadata": {
    "tags": []
   },
   "outputs": [
    {
     "data": {
      "text/plain": [
       "torch.Size([8988, 768])"
      ]
     },
     "execution_count": 22,
     "metadata": {},
     "output_type": "execute_result"
    }
   ],
   "source": [
    "out_reshaped = out.reshape(-1,out.shape[2])\n",
    "out_reshaped.shape"
   ]
  },
  {
   "cell_type": "code",
   "execution_count": 23,
   "id": "718eeebe-e0d1-4780-9607-bfdb8febefb4",
   "metadata": {
    "tags": []
   },
   "outputs": [
    {
     "name": "stdout",
     "output_type": "stream",
     "text": [
      "(28, 321, 768)\n"
     ]
    }
   ],
   "source": [
    "scaler = sk.preprocessing.StandardScaler()\n",
    "out_transformed = scaler.fit_transform(out_reshaped.cpu()).reshape(out.shape)\n",
    "print(out_transformed.shape)"
   ]
  },
  {
   "cell_type": "code",
   "execution_count": 24,
   "id": "bd5dc244-3c4f-4fd5-ba5e-98a3b8c979ef",
   "metadata": {
    "tags": []
   },
   "outputs": [
    {
     "name": "stdout",
     "output_type": "stream",
     "text": [
      "(28, 321, 768)\n"
     ]
    }
   ],
   "source": [
    "pca = sk.decomposition.PCA()\n",
    "out_pca = pca.fit_transform(out_transformed.reshape(out_reshaped.shape)).reshape(out.shape)\n",
    "print(out_pca.shape)"
   ]
  },
  {
   "cell_type": "code",
   "execution_count": 25,
   "id": "3896fbde-2ebd-45f4-9db7-3651f3a0edd1",
   "metadata": {
    "tags": []
   },
   "outputs": [
    {
     "data": {
      "text/plain": [
       "(array([0., 1., 2., 3., 4., 5., 6., 7., 8., 9.], dtype=float32), 28)"
      ]
     },
     "execution_count": 25,
     "metadata": {},
     "output_type": "execute_result"
    }
   ],
   "source": [
    "np.unique(y),len(y)"
   ]
  },
  {
   "cell_type": "code",
   "execution_count": 26,
   "id": "17d76a6e-43dc-4df7-a766-9fbefd692d50",
   "metadata": {
    "tags": []
   },
   "outputs": [
    {
     "data": {
      "text/plain": [
       "(array([ 1.,  2.,  3.,  4.,  5.,  6.,  8.,  9., 10., 11.]), 28)"
      ]
     },
     "execution_count": 26,
     "metadata": {},
     "output_type": "execute_result"
    }
   ],
   "source": [
    "np.unique(y_original),len(y_original)"
   ]
  },
  {
   "cell_type": "code",
   "execution_count": 28,
   "id": "a1cd519a-0c3e-4fc7-8d68-3e2181672395",
   "metadata": {
    "tags": []
   },
   "outputs": [
    {
     "name": "stdout",
     "output_type": "stream",
     "text": [
      "1.0\n",
      "2.0\n",
      "3.0\n",
      "4.0\n",
      "5.0\n",
      "6.0\n",
      "8.0\n",
      "9.0\n",
      "10.0\n",
      "11.0\n"
     ]
    },
    {
     "data": {
      "image/png": "[encoded data removed]",
      "text/plain": [
       "<Figure size 1200x600 with 1 Axes>"
      ]
     },
     "metadata": {},
     "output_type": "display_data"
    }
   ],
   "source": [
    "import matplotlib.pyplot as plt\n",
    "import numpy as np\n",
    "\n",
    "plt.figure(figsize=(12, 6))\n",
    "\n",
    "for label in np.unique(y_original): \n",
    "    print(label)\n",
    "    x = out_transformed[y_original == label, :, 0].flatten()\n",
    "    z = out_transformed[y_original == label, :, 1].flatten()\n",
    "    \n",
    "\n",
    "    plt.scatter(x, z, alpha=1, label=str((label)))\n",
    "    \n",
    "\n",
    "    cx, cy = np.mean(x), np.mean(z)\n",
    "    \n",
    "\n",
    "    plt.text(cx, cy, str(label), fontsize=12,\n",
    "             ha='center', va='center', color='black')\n",
    "\n",
    "plt.title(\"Embeddings\")\n",
    "plt.legend()\n",
    "plt.show()\n"
   ]
  },
  {
   "cell_type": "code",
   "execution_count": 29,
   "id": "0a667af4-cc3e-49a5-beb3-4444069ab589",
   "metadata": {},
   "outputs": [
    {
     "name": "stdout",
     "output_type": "stream",
     "text": [
      "1.0\n",
      "2.0\n",
      "3.0\n",
      "4.0\n",
      "5.0\n",
      "6.0\n",
      "8.0\n",
      "9.0\n",
      "10.0\n",
      "11.0\n"
     ]
    },
    {
     "data": {
      "image/png": "[encoded data removed]",
      "text/plain": [
       "<Figure size 1200x600 with 1 Axes>"
      ]
     },
     "metadata": {},
     "output_type": "display_data"
    }
   ],
   "source": [
    "plt.figure(figsize=(12, 6))\n",
    "\n",
    "for label in np.unique(y_original): \n",
    "    print(label)\n",
    "    x = out_pca[y_original == label, :, 0].flatten()\n",
    "    z = out_pca[y_original == label, :, 1].flatten()\n",
    "    \n",
    "\n",
    "    plt.scatter(x, z, alpha=1, label=str((label)))\n",
    "    \n",
    "\n",
    "    cx, cy = np.mean(x), np.mean(z)\n",
    "    \n",
    "\n",
    "    plt.text(cx, cy, str(label), fontsize=12,\n",
    "             ha='center', va='center', color='black')\n",
    "\n",
    "plt.title(\"Embeddings after PCA\")\n",
    "plt.legend()\n",
    "plt.show()"
   ]
  },
  {
   "cell_type": "code",
   "execution_count": null,
   "id": "093c6c01-fa46-49c8-954d-ef4df1adde57",
   "metadata": {},
   "outputs": [],
   "source": []
  }
 ],
 "metadata": {
  "kernelspec": {
   "display_name": "Python 3 (ipykernel)",
   "language": "python",
   "name": "python3"
  },
  "language_info": {
   "codemirror_mode": {
    "name": "ipython",
    "version": 3
   },
   "file_extension": ".py",
   "mimetype": "text/x-python",
   "name": "python",
   "nbconvert_exporter": "python",
   "pygments_lexer": "ipython3",
   "version": "3.9.23"
  }
 },
 "nbformat": 4,
 "nbformat_minor": 5
}
