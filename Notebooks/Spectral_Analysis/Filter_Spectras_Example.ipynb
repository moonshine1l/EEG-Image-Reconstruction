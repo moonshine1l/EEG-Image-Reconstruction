{
 "cells": [
  {
   "cell_type": "code",
   "execution_count": 1,
   "id": "16bc52b7-c9c4-4a0e-b705-8ed263b4f3d9",
   "metadata": {},
   "outputs": [],
   "source": [
    "import os\n",
    "import warnings\n",
    "\n",
    "warnings.filterwarnings(\"ignore\")\n",
    "os.chdir('../..')\n",
    "\n",
    "from Scripts.Spectral_Analysis.Spectrum_Filter import filter_spectras"
   ]
  },
  {
   "cell_type": "markdown",
   "id": "adb7eb4a-fffe-4949-ad0a-8d1c509d5eff",
   "metadata": {},
   "source": [
    "# Exec & Rest Spectras Examples\n",
    "Here are examples for `Exec & Rest` (only target `Execution` blocks with 0.5s `command` before and 4.5s `rest` after) FFT/Morlet spectras. \n",
    "                    \n",
    "Here will be selected only day female 18 or 30 y.o. subject execution spectras"
   ]
  },
  {
   "cell_type": "code",
   "execution_count": 2,
   "id": "019df57c-8019-42ed-ba3d-149b353c717e",
   "metadata": {},
   "outputs": [
    {
     "name": "stdout",
     "output_type": "stream",
     "text": [
      "------------------------- Exec & Rest Spectras Morlets (63 Samples) ---------------------\n",
      "Power: \t (63, 195, 411)\n",
      "Phase: \t (63, 195, 411)\n",
      "Subject: \t 4\n",
      "Trial: \t\t 2\n",
      "Gender: \t f\n",
      "Handiness: \t r\n",
      "Age: \t\t 30\n",
      "Task_Type: \t g\n",
      "Label: \t\t 5\n",
      "Image:\n",
      "[[0 0 0 0 0 0]\n",
      " [1 1 1 1 1 1]\n",
      " [0 0 0 0 0 0]\n",
      " [0 0 0 0 0 0]\n",
      " [1 1 1 1 1 1]\n",
      " [0 0 0 0 0 0]]\n"
     ]
    }
   ],
   "source": [
    "results_arr = filter_spectras('./Generated/Spectrums/exec_and_rest_morlets.npz',\n",
    "                              day_time_meta_path=\"./Supplementary/Experiment_Metadata.xlsx\",\n",
    "                              day_time=\"Day\",\n",
    "                              gender=\"f\",\n",
    "                              age=[18, 30])\n",
    "\n",
    "power, phase, s_id, t_id, gender, handiness, age, label, img, task_type = results_arr[0]\n",
    "print(f\"------------------------- Exec & Rest Spectras Morlets ({len(results_arr)} Samples) ---------------------\")\n",
    "print(f\"Power: \\t {power.shape}\\nPhase: \\t {phase.shape}\\nSubject: \\t {s_id}\\nTrial: \\t\\t {t_id}\\nGender: \\t {gender}\\nHandiness: \\t {handiness}\\nAge: \\t\\t {age}\\nTask_Type: \\t {task_type}\\nLabel: \\t\\t {label}\\nImage:\\n{img}\")"
   ]
  },
  {
   "cell_type": "code",
   "execution_count": 3,
   "id": "f6fb7747-132d-469b-a970-f15a2732cd54",
   "metadata": {},
   "outputs": [
    {
     "name": "stdout",
     "output_type": "stream",
     "text": [
      "------------------------- Exec & Rest Spectras FFTs (63 Samples) ---------------------\n",
      "Power: \t (63, 381)\n",
      "Phase: \t\t None\n",
      "Subject: \t 4\n",
      "Trial: \t\t 2\n",
      "Gender: \t f\n",
      "Handiness: \t r\n",
      "Age: \t\t 30\n",
      "Task_Type: \t g\n",
      "Label: \t\t 5\n",
      "Image:\n",
      "[[0 0 0 0 0 0]\n",
      " [1 1 1 1 1 1]\n",
      " [0 0 0 0 0 0]\n",
      " [0 0 0 0 0 0]\n",
      " [1 1 1 1 1 1]\n",
      " [0 0 0 0 0 0]]\n"
     ]
    }
   ],
   "source": [
    "results_arr = filter_spectras('./Generated/Spectrums/exec_and_rest_fft.npz',\n",
    "                              day_time_meta_path=\"./Supplementary/Experiment_Metadata.xlsx\",\n",
    "                              day_time=\"Day\",\n",
    "                              gender=\"f\",\n",
    "                              age=[18, 30])\n",
    "\n",
    "power, phase, s_id, t_id, gender, handiness, age, label, img, task_type = results_arr[0]\n",
    "print(f\"------------------------- Exec & Rest Spectras FFTs ({len(results_arr)} Samples) ---------------------\")\n",
    "print(f\"Power: \\t {power.shape}\\nPhase: \\t\\t {phase}\\nSubject: \\t {s_id}\\nTrial: \\t\\t {t_id}\\nGender: \\t {gender}\\nHandiness: \\t {handiness}\\nAge: \\t\\t {age}\\nTask_Type: \\t {task_type}\\nLabel: \\t\\t {label}\\nImage:\\n{img}\")"
   ]
  },
  {
   "cell_type": "markdown",
   "id": "ff365c38-49f2-44c3-8036-0a05fd646388",
   "metadata": {},
   "source": [
    "# Complete Spectras Examples\n",
    "Here are examples for `All` (spectras for all the experiment) FFT/Morlet spectras. \n",
    "                    \n",
    "Here will be selected only day female 18 or 30 y.o. subject execution spectras"
   ]
  },
  {
   "cell_type": "code",
   "execution_count": 4,
   "id": "5d84092e-ce40-4edd-9baf-dbbc721dfee4",
   "metadata": {},
   "outputs": [
    {
     "name": "stdout",
     "output_type": "stream",
     "text": [
      "------------------------- All Spectras Morlets (5 Samples) ---------------------\n",
      "Power: \t (63, 80)\n",
      "Phase: \t\t None\n",
      "Subject: \t 4\n",
      "Trial: \t\t 2\n",
      "Gender: \t f\n",
      "Handiness: \t r\n",
      "Age: \t\t 30\n",
      "Task_Type: \t None\n",
      "Label: \t\t None\n",
      "Image: \t\t None\n"
     ]
    }
   ],
   "source": [
    "results_arr = filter_spectras('./Generated/Spectrums/psds_array_morlet.npz',\n",
    "                              day_time_meta_path=\"./Supplementary/Experiment_Metadata.xlsx\",\n",
    "                              day_time=\"Day\",\n",
    "                              gender=\"f\",\n",
    "                              age=[18, 30])\n",
    "\n",
    "power, phase, s_id, t_id, gender, handiness, age, label, img, task_type = results_arr[0]\n",
    "print(f\"------------------------- All Spectras Morlets ({len(results_arr)} Samples) ---------------------\")\n",
    "print(f\"Power: \\t {power.shape}\\nPhase: \\t\\t {phase}\\nSubject: \\t {s_id}\\nTrial: \\t\\t {t_id}\\nGender: \\t {gender}\\nHandiness: \\t {handiness}\\nAge: \\t\\t {age}\\nTask_Type: \\t {task_type}\\nLabel: \\t\\t {label}\\nImage: \\t\\t {img}\")"
   ]
  },
  {
   "cell_type": "code",
   "execution_count": 5,
   "id": "61f9db71-a846-4499-bc23-7583a3032adb",
   "metadata": {},
   "outputs": [
    {
     "name": "stdout",
     "output_type": "stream",
     "text": [
      "------------------------- All Spectras FFTs (5 Samples) ---------------------\n",
      "Power: \t (63, 381)\n",
      "Phase: \t\t None\n",
      "Subject: \t 4\n",
      "Trial: \t\t 2\n",
      "Gender: \t f\n",
      "Handiness: \t r\n",
      "Age: \t\t 30\n",
      "Task_Type: \t None\n",
      "Label: \t\t None\n",
      "Image: \t\t None\n"
     ]
    }
   ],
   "source": [
    "results_arr = filter_spectras('./Generated/Spectrums/psds_array_fft.npz',\n",
    "                              day_time_meta_path=\"./Supplementary/Experiment_Metadata.xlsx\",\n",
    "                              day_time=\"Day\",\n",
    "                              gender=\"f\",\n",
    "                              age=[18, 30])\n",
    "\n",
    "power, phase, s_id, t_id, gender, handiness, age, label, img, task_type = results_arr[0]\n",
    "print(f\"------------------------- All Spectras FFTs ({len(results_arr)} Samples) ---------------------\")\n",
    "print(f\"Power: \\t {power.shape}\\nPhase: \\t\\t {phase}\\nSubject: \\t {s_id}\\nTrial: \\t\\t {t_id}\\nGender: \\t {gender}\\nHandiness: \\t {handiness}\\nAge: \\t\\t {age}\\nTask_Type: \\t {task_type}\\nLabel: \\t\\t {label}\\nImage: \\t\\t {img}\")"
   ]
  }
 ],
 "metadata": {
  "kernelspec": {
   "display_name": "Python 3 (ipykernel)",
   "language": "python",
   "name": "python3"
  },
  "language_info": {
   "codemirror_mode": {
    "name": "ipython",
    "version": 3
   },
   "file_extension": ".py",
   "mimetype": "text/x-python",
   "name": "python",
   "nbconvert_exporter": "python",
   "pygments_lexer": "ipython3",
   "version": "3.9.24"
  }
 },
 "nbformat": 4,
 "nbformat_minor": 5
}
